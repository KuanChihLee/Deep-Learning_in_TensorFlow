{
  "nbformat": 4,
  "nbformat_minor": 0,
  "metadata": {
    "colab": {
      "name": "ST: DL Assign #2 Test.ipynb",
      "version": "0.3.2",
      "provenance": [],
      "collapsed_sections": [],
      "include_colab_link": true
    },
    "kernelspec": {
      "name": "python3",
      "display_name": "Python 3"
    },
    "accelerator": "GPU"
  },
  "cells": [
    {
      "cell_type": "markdown",
      "metadata": {
        "id": "view-in-github",
        "colab_type": "text"
      },
      "source": [
        "<a href=\"https://colab.research.google.com/github/KuanChihLee/Deep-Learning_in_TensorFlow/blob/master/ST_DL_Assign_2_Test.ipynb\" target=\"_parent\"><img src=\"https://colab.research.google.com/assets/colab-badge.svg\" alt=\"Open In Colab\"/></a>"
      ]
    },
    {
      "metadata": {
        "id": "e3JH1DvAEGCy",
        "colab_type": "code",
        "outputId": "b4b08bb8-856f-444e-c678-7f1b613cb50d",
        "colab": {
          "base_uri": "https://localhost:8080/",
          "height": 53
        }
      },
      "cell_type": "code",
      "source": [
        "import os\n",
        "\n",
        "import tensorflow as tf\n",
        "from keras.callbacks import ModelCheckpoint\n",
        "\n",
        "%matplotlib inline\n",
        "import numpy as np\n",
        "import matplotlib.pyplot as plt\n",
        "plt.style.use('seaborn-whitegrid')\n",
        "\n",
        "tf.__version__"
      ],
      "execution_count": 0,
      "outputs": [
        {
          "output_type": "stream",
          "text": [
            "Using TensorFlow backend.\n"
          ],
          "name": "stderr"
        },
        {
          "output_type": "execute_result",
          "data": {
            "text/plain": [
              "'1.13.1'"
            ]
          },
          "metadata": {
            "tags": []
          },
          "execution_count": 4
        }
      ]
    },
    {
      "metadata": {
        "id": "DOOVip0NkGZo",
        "colab_type": "code",
        "colab": {}
      },
      "cell_type": "code",
      "source": [
        "cifar10 = tf.keras.datasets.cifar10"
      ],
      "execution_count": 0,
      "outputs": []
    },
    {
      "metadata": {
        "id": "eQtKAs3Ga2cc",
        "colab_type": "code",
        "colab": {}
      },
      "cell_type": "code",
      "source": [
        "(x_train, y_train), (x_test, y_test) = cifar10.load_data()\n",
        "\n",
        "x_valid, y_valid = x_train[-5001:-1], y_train[-5001:-1]\n",
        "x_train, y_train = x_train[:-5000], y_train[:-5000]"
      ],
      "execution_count": 0,
      "outputs": []
    },
    {
      "metadata": {
        "id": "dIAzmvLnbKmb",
        "colab_type": "code",
        "outputId": "575edc6f-5b58-4683-9782-ac4a60bbe656",
        "colab": {
          "base_uri": "https://localhost:8080/",
          "height": 35
        }
      },
      "cell_type": "code",
      "source": [
        "x_train.shape"
      ],
      "execution_count": 0,
      "outputs": [
        {
          "output_type": "execute_result",
          "data": {
            "text/plain": [
              "(45000, 32, 32, 3)"
            ]
          },
          "metadata": {
            "tags": []
          },
          "execution_count": 4
        }
      ]
    },
    {
      "metadata": {
        "id": "qyTC7nCVEfxn",
        "colab_type": "code",
        "outputId": "402524ef-0be8-4b5f-cdee-f7ec926bc5c4",
        "colab": {
          "base_uri": "https://localhost:8080/",
          "height": 35
        }
      },
      "cell_type": "code",
      "source": [
        "x_valid.shape"
      ],
      "execution_count": 0,
      "outputs": [
        {
          "output_type": "execute_result",
          "data": {
            "text/plain": [
              "(5000, 32, 32, 3)"
            ]
          },
          "metadata": {
            "tags": []
          },
          "execution_count": 5
        }
      ]
    },
    {
      "metadata": {
        "id": "UvgmzxQ4GsJT",
        "colab_type": "code",
        "colab": {}
      },
      "cell_type": "code",
      "source": [
        "x_train, x_test, x_valid = x_train / 255.0, x_test / 255.0, x_valid / 255.0"
      ],
      "execution_count": 0,
      "outputs": []
    },
    {
      "metadata": {
        "id": "xt2bTMcaG0Zv",
        "colab_type": "code",
        "outputId": "1a192183-6d85-4cff-aca5-422b85b51d13",
        "colab": {
          "base_uri": "https://localhost:8080/",
          "height": 969
        }
      },
      "cell_type": "code",
      "source": [
        "input_shape = x_train.shape[1:]\n",
        "\n",
        "model = tf.keras.Sequential()\n",
        "\n",
        "model.add(tf.keras.layers.Conv2D(filters=32, kernel_size=(5,5), strides=(1, 1), activation='relu', input_shape=input_shape))\n",
        "model.add(tf.keras.layers.MaxPooling2D(pool_size=(2, 2), strides=(1, 1)))\n",
        "model.add(tf.keras.layers.Dropout(0.2))\n",
        "\n",
        "model.add(tf.keras.layers.Conv2D(filters=64, kernel_size=(3,3), strides=(2, 2), activation='relu', padding='same'))\n",
        "model.add(tf.keras.layers.MaxPooling2D(pool_size=(2, 2), strides=(2, 2)))\n",
        "model.add(tf.keras.layers.Dropout(0.4))\n",
        "\n",
        "model.add(tf.keras.layers.Conv2D(filters=64, kernel_size=(3,3), strides=(2, 2), activation='relu', padding='same'))\n",
        "model.add(tf.keras.layers.MaxPooling2D(pool_size=(2, 2), strides=(1, 1)))\n",
        "model.add(tf.keras.layers.Dropout(0.2))\n",
        "\n",
        "model.add(tf.keras.layers.Flatten())\n",
        "model.add(tf.keras.layers.Dense(512))\n",
        "model.add(tf.keras.layers.BatchNormalization())\n",
        "model.add(tf.keras.layers.Activation('relu'))\n",
        "model.add(tf.keras.layers.Dropout(0.4))\n",
        "model.add(tf.keras.layers.Dense(512))\n",
        "model.add(tf.keras.layers.BatchNormalization())\n",
        "model.add(tf.keras.layers.Activation('relu'))\n",
        "model.add(tf.keras.layers.Dropout(0.4))\n",
        "model.add(tf.keras.layers.Dense(10, activation='softmax'))\n",
        "          \n",
        "model.summary()"
      ],
      "execution_count": 0,
      "outputs": [
        {
          "output_type": "stream",
          "text": [
            "WARNING:tensorflow:From /usr/local/lib/python3.6/dist-packages/tensorflow/python/ops/resource_variable_ops.py:435: colocate_with (from tensorflow.python.framework.ops) is deprecated and will be removed in a future version.\n",
            "Instructions for updating:\n",
            "Colocations handled automatically by placer.\n",
            "WARNING:tensorflow:From /usr/local/lib/python3.6/dist-packages/tensorflow/python/keras/layers/core.py:143: calling dropout (from tensorflow.python.ops.nn_ops) with keep_prob is deprecated and will be removed in a future version.\n",
            "Instructions for updating:\n",
            "Please use `rate` instead of `keep_prob`. Rate should be set to `rate = 1 - keep_prob`.\n",
            "_________________________________________________________________\n",
            "Layer (type)                 Output Shape              Param #   \n",
            "=================================================================\n",
            "conv2d (Conv2D)              (None, 28, 28, 32)        2432      \n",
            "_________________________________________________________________\n",
            "max_pooling2d (MaxPooling2D) (None, 27, 27, 32)        0         \n",
            "_________________________________________________________________\n",
            "dropout (Dropout)            (None, 27, 27, 32)        0         \n",
            "_________________________________________________________________\n",
            "conv2d_1 (Conv2D)            (None, 14, 14, 64)        18496     \n",
            "_________________________________________________________________\n",
            "max_pooling2d_1 (MaxPooling2 (None, 7, 7, 64)          0         \n",
            "_________________________________________________________________\n",
            "dropout_1 (Dropout)          (None, 7, 7, 64)          0         \n",
            "_________________________________________________________________\n",
            "conv2d_2 (Conv2D)            (None, 4, 4, 64)          36928     \n",
            "_________________________________________________________________\n",
            "max_pooling2d_2 (MaxPooling2 (None, 3, 3, 64)          0         \n",
            "_________________________________________________________________\n",
            "dropout_2 (Dropout)          (None, 3, 3, 64)          0         \n",
            "_________________________________________________________________\n",
            "flatten (Flatten)            (None, 576)               0         \n",
            "_________________________________________________________________\n",
            "dense (Dense)                (None, 512)               295424    \n",
            "_________________________________________________________________\n",
            "batch_normalization_v1 (Batc (None, 512)               2048      \n",
            "_________________________________________________________________\n",
            "activation (Activation)      (None, 512)               0         \n",
            "_________________________________________________________________\n",
            "dropout_3 (Dropout)          (None, 512)               0         \n",
            "_________________________________________________________________\n",
            "dense_1 (Dense)              (None, 512)               262656    \n",
            "_________________________________________________________________\n",
            "batch_normalization_v1_1 (Ba (None, 512)               2048      \n",
            "_________________________________________________________________\n",
            "activation_1 (Activation)    (None, 512)               0         \n",
            "_________________________________________________________________\n",
            "dropout_4 (Dropout)          (None, 512)               0         \n",
            "_________________________________________________________________\n",
            "dense_2 (Dense)              (None, 10)                5130      \n",
            "=================================================================\n",
            "Total params: 625,162\n",
            "Trainable params: 623,114\n",
            "Non-trainable params: 2,048\n",
            "_________________________________________________________________\n"
          ],
          "name": "stdout"
        }
      ]
    },
    {
      "metadata": {
        "id": "SFH7X7YUcNj9",
        "colab_type": "code",
        "colab": {}
      },
      "cell_type": "code",
      "source": [
        "checkpoint_path = \"training_1.hdf5\"\n",
        "checkpoint_dir = os.path.dirname(checkpoint_path)\n",
        "\n",
        "checkpointer = tf.keras.callbacks.ModelCheckpoint(checkpoint_dir, \n",
        "                                                   monitor = 'val_acc',\n",
        "                                                   verbose=1, \n",
        "                                                   save_best_only=True)"
      ],
      "execution_count": 0,
      "outputs": []
    },
    {
      "metadata": {
        "id": "yHYX7bZgL5vE",
        "colab_type": "code",
        "outputId": "0597ae90-b3dc-4dc5-878d-f7ca211b17f3",
        "colab": {
          "base_uri": "https://localhost:8080/",
          "height": 7400
        }
      },
      "cell_type": "code",
      "source": [
        "model.compile(optimizer='adam',\n",
        "                loss='sparse_categorical_crossentropy',\n",
        "                metrics=['accuracy'])\n",
        "\n",
        "device_name = tf.test.gpu_device_name()\n",
        "if device_name != '/device:GPU:0':\n",
        "  raise SystemError('GPU device not found')\n",
        "print('Found GPU at: {}'.format(device_name))\n",
        "\n",
        "with tf.device('/gpu:0'):\n",
        "  history = model.fit(x_train, \n",
        "                      y_train, \n",
        "                      epochs=100,\n",
        "                      batch_size=64,\n",
        "                      validation_data=(x_valid, y_valid),\n",
        "                      callbacks=[checkpointer])"
      ],
      "execution_count": 0,
      "outputs": [
        {
          "output_type": "stream",
          "text": [
            "Found GPU at: /device:GPU:0\n",
            "Train on 45000 samples, validate on 5000 samples\n",
            "Epoch 1/100\n",
            "44928/45000 [============================>.] - ETA: 0s - loss: 1.9663 - acc: 0.2899\n",
            "Epoch 00001: val_acc improved from -inf to 0.34540, saving model to training_1\n",
            "45000/45000 [==============================] - 17s 368us/sample - loss: 1.9657 - acc: 0.2900 - val_loss: 1.9089 - val_acc: 0.3454\n",
            "Epoch 2/100\n",
            "44992/45000 [============================>.] - ETA: 0s - loss: 1.5124 - acc: 0.4413\n",
            "Epoch 00002: val_acc improved from 0.34540 to 0.49160, saving model to training_1\n",
            "45000/45000 [==============================] - 14s 315us/sample - loss: 1.5124 - acc: 0.4413 - val_loss: 1.4258 - val_acc: 0.4916\n",
            "Epoch 3/100\n",
            "44992/45000 [============================>.] - ETA: 0s - loss: 1.3775 - acc: 0.4987\n",
            "Epoch 00003: val_acc improved from 0.49160 to 0.52400, saving model to training_1\n",
            "45000/45000 [==============================] - 14s 314us/sample - loss: 1.3777 - acc: 0.4987 - val_loss: 1.3448 - val_acc: 0.5240\n",
            "Epoch 4/100\n",
            "44992/45000 [============================>.] - ETA: 0s - loss: 1.2856 - acc: 0.5370\n",
            "Epoch 00004: val_acc improved from 0.52400 to 0.56500, saving model to training_1\n",
            "45000/45000 [==============================] - 14s 315us/sample - loss: 1.2857 - acc: 0.5369 - val_loss: 1.2538 - val_acc: 0.5650\n",
            "Epoch 5/100\n",
            "44992/45000 [============================>.] - ETA: 0s - loss: 1.2141 - acc: 0.5632\n",
            "Epoch 00005: val_acc improved from 0.56500 to 0.57080, saving model to training_1\n",
            "45000/45000 [==============================] - 14s 316us/sample - loss: 1.2142 - acc: 0.5632 - val_loss: 1.2439 - val_acc: 0.5708\n",
            "Epoch 6/100\n",
            "44928/45000 [============================>.] - ETA: 0s - loss: 1.1661 - acc: 0.5830\n",
            "Epoch 00006: val_acc improved from 0.57080 to 0.64900, saving model to training_1\n",
            "45000/45000 [==============================] - 14s 316us/sample - loss: 1.1663 - acc: 0.5829 - val_loss: 1.0410 - val_acc: 0.6490\n",
            "Epoch 7/100\n",
            "44992/45000 [============================>.] - ETA: 0s - loss: 1.1164 - acc: 0.6025\n",
            "Epoch 00007: val_acc did not improve from 0.64900\n",
            "45000/45000 [==============================] - 14s 314us/sample - loss: 1.1166 - acc: 0.6024 - val_loss: 1.0057 - val_acc: 0.6366\n",
            "Epoch 8/100\n",
            "44992/45000 [============================>.] - ETA: 0s - loss: 1.0796 - acc: 0.6158\n",
            "Epoch 00008: val_acc did not improve from 0.64900\n",
            "45000/45000 [==============================] - 14s 312us/sample - loss: 1.0794 - acc: 0.6158 - val_loss: 1.2297 - val_acc: 0.5840\n",
            "Epoch 9/100\n",
            "44992/45000 [============================>.] - ETA: 0s - loss: 1.0508 - acc: 0.6271\n",
            "Epoch 00009: val_acc improved from 0.64900 to 0.65700, saving model to training_1\n",
            "45000/45000 [==============================] - 14s 315us/sample - loss: 1.0508 - acc: 0.6271 - val_loss: 0.9702 - val_acc: 0.6570\n",
            "Epoch 10/100\n",
            "44928/45000 [============================>.] - ETA: 0s - loss: 1.0171 - acc: 0.6391\n",
            "Epoch 00010: val_acc improved from 0.65700 to 0.70240, saving model to training_1\n",
            "45000/45000 [==============================] - 14s 316us/sample - loss: 1.0170 - acc: 0.6391 - val_loss: 0.8503 - val_acc: 0.7024\n",
            "Epoch 11/100\n",
            "44992/45000 [============================>.] - ETA: 0s - loss: 0.9938 - acc: 0.6477\n",
            "Epoch 00011: val_acc did not improve from 0.70240\n",
            "45000/45000 [==============================] - 14s 317us/sample - loss: 0.9938 - acc: 0.6477 - val_loss: 0.8573 - val_acc: 0.7018\n",
            "Epoch 12/100\n",
            "44992/45000 [============================>.] - ETA: 0s - loss: 0.9772 - acc: 0.6516\n",
            "Epoch 00012: val_acc did not improve from 0.70240\n",
            "45000/45000 [==============================] - 14s 316us/sample - loss: 0.9773 - acc: 0.6516 - val_loss: 1.0322 - val_acc: 0.6292\n",
            "Epoch 13/100\n",
            "44928/45000 [============================>.] - ETA: 0s - loss: 0.9529 - acc: 0.6654\n",
            "Epoch 00013: val_acc did not improve from 0.70240\n",
            "45000/45000 [==============================] - 14s 315us/sample - loss: 0.9532 - acc: 0.6652 - val_loss: 0.9236 - val_acc: 0.6794\n",
            "Epoch 14/100\n",
            "44992/45000 [============================>.] - ETA: 0s - loss: 0.9369 - acc: 0.6676\n",
            "Epoch 00014: val_acc did not improve from 0.70240\n",
            "45000/45000 [==============================] - 14s 314us/sample - loss: 0.9369 - acc: 0.6676 - val_loss: 0.9261 - val_acc: 0.6794\n",
            "Epoch 15/100\n",
            "44992/45000 [============================>.] - ETA: 0s - loss: 0.9188 - acc: 0.6742\n",
            "Epoch 00015: val_acc did not improve from 0.70240\n",
            "45000/45000 [==============================] - 14s 315us/sample - loss: 0.9188 - acc: 0.6742 - val_loss: 0.9511 - val_acc: 0.6732\n",
            "Epoch 16/100\n",
            "44992/45000 [============================>.] - ETA: 0s - loss: 0.8974 - acc: 0.6822\n",
            "Epoch 00016: val_acc did not improve from 0.70240\n",
            "45000/45000 [==============================] - 14s 314us/sample - loss: 0.8974 - acc: 0.6822 - val_loss: 0.8559 - val_acc: 0.7010\n",
            "Epoch 17/100\n",
            "44992/45000 [============================>.] - ETA: 0s - loss: 0.8933 - acc: 0.6845\n",
            "Epoch 00017: val_acc improved from 0.70240 to 0.70880, saving model to training_1\n",
            "45000/45000 [==============================] - 14s 314us/sample - loss: 0.8934 - acc: 0.6845 - val_loss: 0.8450 - val_acc: 0.7088\n",
            "Epoch 18/100\n",
            "44992/45000 [============================>.] - ETA: 0s - loss: 0.8781 - acc: 0.6879\n",
            "Epoch 00018: val_acc improved from 0.70880 to 0.71460, saving model to training_1\n",
            "45000/45000 [==============================] - 14s 316us/sample - loss: 0.8782 - acc: 0.6879 - val_loss: 0.8281 - val_acc: 0.7146\n",
            "Epoch 19/100\n",
            "44928/45000 [============================>.] - ETA: 0s - loss: 0.8631 - acc: 0.6949\n",
            "Epoch 00019: val_acc improved from 0.71460 to 0.73260, saving model to training_1\n",
            "45000/45000 [==============================] - 14s 313us/sample - loss: 0.8634 - acc: 0.6948 - val_loss: 0.7932 - val_acc: 0.7326\n",
            "Epoch 20/100\n",
            "44928/45000 [============================>.] - ETA: 0s - loss: 0.8511 - acc: 0.6968\n",
            "Epoch 00020: val_acc improved from 0.73260 to 0.74600, saving model to training_1\n",
            "45000/45000 [==============================] - 14s 314us/sample - loss: 0.8509 - acc: 0.6969 - val_loss: 0.7323 - val_acc: 0.7460\n",
            "Epoch 21/100\n",
            "44992/45000 [============================>.] - ETA: 0s - loss: 0.8469 - acc: 0.6998\n",
            "Epoch 00021: val_acc did not improve from 0.74600\n",
            "45000/45000 [==============================] - 14s 313us/sample - loss: 0.8470 - acc: 0.6998 - val_loss: 0.8659 - val_acc: 0.7034\n",
            "Epoch 22/100\n",
            "44864/45000 [============================>.] - ETA: 0s - loss: 0.8317 - acc: 0.7073\n",
            "Epoch 00022: val_acc did not improve from 0.74600\n",
            "45000/45000 [==============================] - 14s 315us/sample - loss: 0.8324 - acc: 0.7072 - val_loss: 0.8021 - val_acc: 0.7250\n",
            "Epoch 23/100\n",
            "44992/45000 [============================>.] - ETA: 0s - loss: 0.8263 - acc: 0.7067\n",
            "Epoch 00023: val_acc did not improve from 0.74600\n",
            "45000/45000 [==============================] - 14s 315us/sample - loss: 0.8263 - acc: 0.7067 - val_loss: 0.7716 - val_acc: 0.7338\n",
            "Epoch 24/100\n",
            "44928/45000 [============================>.] - ETA: 0s - loss: 0.8248 - acc: 0.7073\n",
            "Epoch 00024: val_acc did not improve from 0.74600\n",
            "45000/45000 [==============================] - 14s 313us/sample - loss: 0.8247 - acc: 0.7073 - val_loss: 0.7760 - val_acc: 0.7356\n",
            "Epoch 25/100\n",
            "44992/45000 [============================>.] - ETA: 0s - loss: 0.8017 - acc: 0.7151\n",
            "Epoch 00025: val_acc improved from 0.74600 to 0.74800, saving model to training_1\n",
            "45000/45000 [==============================] - 14s 314us/sample - loss: 0.8017 - acc: 0.7152 - val_loss: 0.7291 - val_acc: 0.7480\n",
            "Epoch 26/100\n",
            "44992/45000 [============================>.] - ETA: 0s - loss: 0.7918 - acc: 0.7204\n",
            "Epoch 00026: val_acc did not improve from 0.74800\n",
            "45000/45000 [==============================] - 14s 314us/sample - loss: 0.7918 - acc: 0.7204 - val_loss: 0.7303 - val_acc: 0.7454\n",
            "Epoch 27/100\n",
            "44864/45000 [============================>.] - ETA: 0s - loss: 0.7949 - acc: 0.7186\n",
            "Epoch 00027: val_acc improved from 0.74800 to 0.76080, saving model to training_1\n",
            "45000/45000 [==============================] - 14s 315us/sample - loss: 0.7951 - acc: 0.7185 - val_loss: 0.6851 - val_acc: 0.7608\n",
            "Epoch 28/100\n",
            "44992/45000 [============================>.] - ETA: 0s - loss: 0.7816 - acc: 0.7239\n",
            "Epoch 00028: val_acc did not improve from 0.76080\n",
            "45000/45000 [==============================] - 14s 313us/sample - loss: 0.7817 - acc: 0.7239 - val_loss: 0.7014 - val_acc: 0.7540\n",
            "Epoch 29/100\n",
            "44992/45000 [============================>.] - ETA: 0s - loss: 0.7785 - acc: 0.7226\n",
            "Epoch 00029: val_acc improved from 0.76080 to 0.76740, saving model to training_1\n",
            "45000/45000 [==============================] - 14s 314us/sample - loss: 0.7785 - acc: 0.7225 - val_loss: 0.6798 - val_acc: 0.7674\n",
            "Epoch 30/100\n",
            "44928/45000 [============================>.] - ETA: 0s - loss: 0.7732 - acc: 0.7267\n",
            "Epoch 00030: val_acc did not improve from 0.76740\n",
            "45000/45000 [==============================] - 14s 314us/sample - loss: 0.7735 - acc: 0.7267 - val_loss: 0.6807 - val_acc: 0.7646\n",
            "Epoch 31/100\n",
            "44864/45000 [============================>.] - ETA: 0s - loss: 0.7621 - acc: 0.7302\n",
            "Epoch 00031: val_acc did not improve from 0.76740\n",
            "45000/45000 [==============================] - 14s 315us/sample - loss: 0.7620 - acc: 0.7302 - val_loss: 0.6845 - val_acc: 0.7650\n",
            "Epoch 32/100\n",
            "44992/45000 [============================>.] - ETA: 0s - loss: 0.7609 - acc: 0.7324\n",
            "Epoch 00032: val_acc did not improve from 0.76740\n",
            "45000/45000 [==============================] - 14s 314us/sample - loss: 0.7610 - acc: 0.7324 - val_loss: 0.7061 - val_acc: 0.7528\n",
            "Epoch 33/100\n",
            "44992/45000 [============================>.] - ETA: 0s - loss: 0.7571 - acc: 0.7342\n",
            "Epoch 00033: val_acc did not improve from 0.76740\n",
            "45000/45000 [==============================] - 14s 318us/sample - loss: 0.7573 - acc: 0.7342 - val_loss: 0.6807 - val_acc: 0.7630\n",
            "Epoch 34/100\n",
            "44928/45000 [============================>.] - ETA: 0s - loss: 0.7518 - acc: 0.7338\n",
            "Epoch 00034: val_acc did not improve from 0.76740\n",
            "45000/45000 [==============================] - 14s 316us/sample - loss: 0.7520 - acc: 0.7339 - val_loss: 0.7171 - val_acc: 0.7466\n",
            "Epoch 35/100\n",
            "44992/45000 [============================>.] - ETA: 0s - loss: 0.7445 - acc: 0.7364\n",
            "Epoch 00035: val_acc did not improve from 0.76740\n",
            "45000/45000 [==============================] - 14s 312us/sample - loss: 0.7445 - acc: 0.7364 - val_loss: 0.6981 - val_acc: 0.7568\n",
            "Epoch 36/100\n",
            "44992/45000 [============================>.] - ETA: 0s - loss: 0.7338 - acc: 0.7401\n",
            "Epoch 00036: val_acc did not improve from 0.76740\n",
            "45000/45000 [==============================] - 14s 313us/sample - loss: 0.7338 - acc: 0.7401 - val_loss: 0.8290 - val_acc: 0.7090\n",
            "Epoch 37/100\n",
            "44928/45000 [============================>.] - ETA: 0s - loss: 0.7343 - acc: 0.7391\n",
            "Epoch 00037: val_acc did not improve from 0.76740\n",
            "45000/45000 [==============================] - 14s 312us/sample - loss: 0.7342 - acc: 0.7391 - val_loss: 0.7376 - val_acc: 0.7476\n",
            "Epoch 38/100\n",
            "44992/45000 [============================>.] - ETA: 0s - loss: 0.7308 - acc: 0.7424\n",
            "Epoch 00038: val_acc did not improve from 0.76740\n",
            "45000/45000 [==============================] - 14s 313us/sample - loss: 0.7309 - acc: 0.7424 - val_loss: 0.8318 - val_acc: 0.7206\n",
            "Epoch 39/100\n",
            "44928/45000 [============================>.] - ETA: 0s - loss: 0.7296 - acc: 0.7437\n",
            "Epoch 00039: val_acc improved from 0.76740 to 0.77840, saving model to training_1\n",
            "45000/45000 [==============================] - 14s 314us/sample - loss: 0.7297 - acc: 0.7437 - val_loss: 0.6464 - val_acc: 0.7784\n",
            "Epoch 40/100\n",
            "44928/45000 [============================>.] - ETA: 0s - loss: 0.7213 - acc: 0.7438\n",
            "Epoch 00040: val_acc did not improve from 0.77840\n",
            "45000/45000 [==============================] - 14s 312us/sample - loss: 0.7212 - acc: 0.7438 - val_loss: 0.7276 - val_acc: 0.7466\n",
            "Epoch 41/100\n",
            "44992/45000 [============================>.] - ETA: 0s - loss: 0.7145 - acc: 0.7454\n",
            "Epoch 00041: val_acc did not improve from 0.77840\n",
            "45000/45000 [==============================] - 14s 312us/sample - loss: 0.7146 - acc: 0.7454 - val_loss: 0.6576 - val_acc: 0.7766\n",
            "Epoch 42/100\n",
            "44992/45000 [============================>.] - ETA: 0s - loss: 0.7081 - acc: 0.7497\n",
            "Epoch 00042: val_acc did not improve from 0.77840\n",
            "45000/45000 [==============================] - 14s 313us/sample - loss: 0.7080 - acc: 0.7497 - val_loss: 0.7609 - val_acc: 0.7472\n",
            "Epoch 43/100\n",
            "44864/45000 [============================>.] - ETA: 0s - loss: 0.7126 - acc: 0.7473\n",
            "Epoch 00043: val_acc did not improve from 0.77840\n",
            "45000/45000 [==============================] - 14s 312us/sample - loss: 0.7121 - acc: 0.7475 - val_loss: 0.6692 - val_acc: 0.7690\n",
            "Epoch 44/100\n",
            "44992/45000 [============================>.] - ETA: 0s - loss: 0.7090 - acc: 0.7480\n",
            "Epoch 00044: val_acc did not improve from 0.77840\n",
            "45000/45000 [==============================] - 14s 313us/sample - loss: 0.7091 - acc: 0.7480 - val_loss: 0.6443 - val_acc: 0.7766\n",
            "Epoch 45/100\n",
            "44928/45000 [============================>.] - ETA: 0s - loss: 0.7001 - acc: 0.7513\n",
            "Epoch 00045: val_acc did not improve from 0.77840\n",
            "45000/45000 [==============================] - 14s 313us/sample - loss: 0.6999 - acc: 0.7513 - val_loss: 0.6739 - val_acc: 0.7636\n",
            "Epoch 46/100\n",
            "44992/45000 [============================>.] - ETA: 0s - loss: 0.6966 - acc: 0.7527\n",
            "Epoch 00046: val_acc did not improve from 0.77840\n",
            "45000/45000 [==============================] - 14s 313us/sample - loss: 0.6966 - acc: 0.7526 - val_loss: 0.7018 - val_acc: 0.7644\n",
            "Epoch 47/100\n",
            "44928/45000 [============================>.] - ETA: 0s - loss: 0.6970 - acc: 0.7544\n",
            "Epoch 00047: val_acc did not improve from 0.77840\n",
            "45000/45000 [==============================] - 14s 315us/sample - loss: 0.6974 - acc: 0.7542 - val_loss: 0.7044 - val_acc: 0.7552\n",
            "Epoch 48/100\n",
            "44928/45000 [============================>.] - ETA: 0s - loss: 0.6905 - acc: 0.7522\n",
            "Epoch 00048: val_acc did not improve from 0.77840\n",
            "45000/45000 [==============================] - 14s 313us/sample - loss: 0.6904 - acc: 0.7523 - val_loss: 0.7204 - val_acc: 0.7580\n",
            "Epoch 49/100\n",
            "44992/45000 [============================>.] - ETA: 0s - loss: 0.6880 - acc: 0.7558\n",
            "Epoch 00049: val_acc did not improve from 0.77840\n",
            "45000/45000 [==============================] - 14s 314us/sample - loss: 0.6880 - acc: 0.7559 - val_loss: 0.8961 - val_acc: 0.6956\n",
            "Epoch 50/100\n",
            "44928/45000 [============================>.] - ETA: 0s - loss: 0.6790 - acc: 0.7591\n",
            "Epoch 00050: val_acc did not improve from 0.77840\n",
            "45000/45000 [==============================] - 14s 314us/sample - loss: 0.6792 - acc: 0.7591 - val_loss: 0.6998 - val_acc: 0.7614\n",
            "Epoch 51/100\n",
            "44992/45000 [============================>.] - ETA: 0s - loss: 0.6811 - acc: 0.7581\n",
            "Epoch 00051: val_acc did not improve from 0.77840\n",
            "45000/45000 [==============================] - 14s 313us/sample - loss: 0.6811 - acc: 0.7581 - val_loss: 0.6819 - val_acc: 0.7642\n",
            "Epoch 52/100\n",
            "44992/45000 [============================>.] - ETA: 0s - loss: 0.6779 - acc: 0.7620\n",
            "Epoch 00052: val_acc did not improve from 0.77840\n",
            "45000/45000 [==============================] - 14s 311us/sample - loss: 0.6779 - acc: 0.7620 - val_loss: 0.6593 - val_acc: 0.7752\n",
            "Epoch 53/100\n",
            "44864/45000 [============================>.] - ETA: 0s - loss: 0.6760 - acc: 0.7590\n",
            "Epoch 00053: val_acc improved from 0.77840 to 0.78280, saving model to training_1\n",
            "45000/45000 [==============================] - 14s 312us/sample - loss: 0.6765 - acc: 0.7588 - val_loss: 0.6425 - val_acc: 0.7828\n",
            "Epoch 54/100\n",
            "44928/45000 [============================>.] - ETA: 0s - loss: 0.6734 - acc: 0.7594\n",
            "Epoch 00054: val_acc did not improve from 0.78280\n",
            "45000/45000 [==============================] - 14s 314us/sample - loss: 0.6733 - acc: 0.7595 - val_loss: 0.7380 - val_acc: 0.7474\n",
            "Epoch 55/100\n",
            "44928/45000 [============================>.] - ETA: 0s - loss: 0.6699 - acc: 0.7620\n",
            "Epoch 00055: val_acc did not improve from 0.78280\n",
            "45000/45000 [==============================] - 14s 317us/sample - loss: 0.6698 - acc: 0.7621 - val_loss: 0.6450 - val_acc: 0.7826\n",
            "Epoch 56/100\n",
            "44928/45000 [============================>.] - ETA: 0s - loss: 0.6674 - acc: 0.7644\n",
            "Epoch 00056: val_acc did not improve from 0.78280\n",
            "45000/45000 [==============================] - 14s 317us/sample - loss: 0.6674 - acc: 0.7644 - val_loss: 0.6823 - val_acc: 0.7672\n",
            "Epoch 57/100\n",
            "44992/45000 [============================>.] - ETA: 0s - loss: 0.6642 - acc: 0.7657\n",
            "Epoch 00057: val_acc did not improve from 0.78280\n",
            "45000/45000 [==============================] - 14s 313us/sample - loss: 0.6642 - acc: 0.7657 - val_loss: 0.6386 - val_acc: 0.7796\n",
            "Epoch 58/100\n",
            "44992/45000 [============================>.] - ETA: 0s - loss: 0.6618 - acc: 0.7632\n",
            "Epoch 00058: val_acc did not improve from 0.78280\n",
            "45000/45000 [==============================] - 14s 314us/sample - loss: 0.6620 - acc: 0.7631 - val_loss: 0.7118 - val_acc: 0.7532\n",
            "Epoch 59/100\n",
            "44928/45000 [============================>.] - ETA: 0s - loss: 0.6610 - acc: 0.7646\n",
            "Epoch 00059: val_acc did not improve from 0.78280\n",
            "45000/45000 [==============================] - 14s 314us/sample - loss: 0.6608 - acc: 0.7647 - val_loss: 0.6840 - val_acc: 0.7622\n",
            "Epoch 60/100\n",
            "44928/45000 [============================>.] - ETA: 0s - loss: 0.6565 - acc: 0.7664\n",
            "Epoch 00060: val_acc did not improve from 0.78280\n",
            "45000/45000 [==============================] - 14s 314us/sample - loss: 0.6564 - acc: 0.7665 - val_loss: 0.7010 - val_acc: 0.7604\n",
            "Epoch 61/100\n",
            "44928/45000 [============================>.] - ETA: 0s - loss: 0.6606 - acc: 0.7666\n",
            "Epoch 00061: val_acc did not improve from 0.78280\n",
            "45000/45000 [==============================] - 14s 314us/sample - loss: 0.6606 - acc: 0.7666 - val_loss: 0.7004 - val_acc: 0.7590\n",
            "Epoch 62/100\n",
            "44992/45000 [============================>.] - ETA: 0s - loss: 0.6477 - acc: 0.7690\n",
            "Epoch 00062: val_acc did not improve from 0.78280\n",
            "45000/45000 [==============================] - 14s 314us/sample - loss: 0.6478 - acc: 0.7690 - val_loss: 0.6997 - val_acc: 0.7562\n",
            "Epoch 63/100\n",
            "44928/45000 [============================>.] - ETA: 0s - loss: 0.6452 - acc: 0.7727\n",
            "Epoch 00063: val_acc did not improve from 0.78280\n",
            "45000/45000 [==============================] - 14s 313us/sample - loss: 0.6452 - acc: 0.7728 - val_loss: 0.6523 - val_acc: 0.7816\n",
            "Epoch 64/100\n",
            "44992/45000 [============================>.] - ETA: 0s - loss: 0.6460 - acc: 0.7726\n",
            "Epoch 00064: val_acc did not improve from 0.78280\n",
            "45000/45000 [==============================] - 14s 314us/sample - loss: 0.6460 - acc: 0.7726 - val_loss: 0.7470 - val_acc: 0.7464\n",
            "Epoch 65/100\n",
            "44928/45000 [============================>.] - ETA: 0s - loss: 0.6427 - acc: 0.7717\n",
            "Epoch 00065: val_acc improved from 0.78280 to 0.78940, saving model to training_1\n",
            "45000/45000 [==============================] - 14s 315us/sample - loss: 0.6428 - acc: 0.7716 - val_loss: 0.6119 - val_acc: 0.7894\n",
            "Epoch 66/100\n",
            "44992/45000 [============================>.] - ETA: 0s - loss: 0.6445 - acc: 0.7726\n",
            "Epoch 00066: val_acc did not improve from 0.78940\n",
            "45000/45000 [==============================] - 14s 314us/sample - loss: 0.6445 - acc: 0.7726 - val_loss: 0.6249 - val_acc: 0.7886\n",
            "Epoch 67/100\n",
            "44992/45000 [============================>.] - ETA: 0s - loss: 0.6492 - acc: 0.7693\n",
            "Epoch 00067: val_acc did not improve from 0.78940\n",
            "45000/45000 [==============================] - 14s 314us/sample - loss: 0.6492 - acc: 0.7693 - val_loss: 0.6721 - val_acc: 0.7724\n",
            "Epoch 68/100\n",
            "44992/45000 [============================>.] - ETA: 0s - loss: 0.6398 - acc: 0.7729\n",
            "Epoch 00068: val_acc improved from 0.78940 to 0.79740, saving model to training_1\n",
            "45000/45000 [==============================] - 14s 316us/sample - loss: 0.6399 - acc: 0.7729 - val_loss: 0.5971 - val_acc: 0.7974\n",
            "Epoch 69/100\n",
            "44992/45000 [============================>.] - ETA: 0s - loss: 0.6333 - acc: 0.7755\n",
            "Epoch 00069: val_acc did not improve from 0.79740\n",
            "45000/45000 [==============================] - 14s 315us/sample - loss: 0.6332 - acc: 0.7755 - val_loss: 0.6396 - val_acc: 0.7848\n",
            "Epoch 70/100\n",
            "44992/45000 [============================>.] - ETA: 0s - loss: 0.6310 - acc: 0.7760\n",
            "Epoch 00070: val_acc did not improve from 0.79740\n",
            "45000/45000 [==============================] - 14s 314us/sample - loss: 0.6309 - acc: 0.7760 - val_loss: 0.6431 - val_acc: 0.7810\n",
            "Epoch 71/100\n",
            "44992/45000 [============================>.] - ETA: 0s - loss: 0.6409 - acc: 0.7720\n",
            "Epoch 00071: val_acc did not improve from 0.79740\n",
            "45000/45000 [==============================] - 14s 314us/sample - loss: 0.6410 - acc: 0.7720 - val_loss: 0.6281 - val_acc: 0.7864\n",
            "Epoch 72/100\n",
            "44992/45000 [============================>.] - ETA: 0s - loss: 0.6225 - acc: 0.7769\n",
            "Epoch 00072: val_acc did not improve from 0.79740\n",
            "45000/45000 [==============================] - 14s 313us/sample - loss: 0.6225 - acc: 0.7769 - val_loss: 0.7241 - val_acc: 0.7428\n",
            "Epoch 73/100\n",
            "44928/45000 [============================>.] - ETA: 0s - loss: 0.6222 - acc: 0.7795\n",
            "Epoch 00073: val_acc did not improve from 0.79740\n",
            "45000/45000 [==============================] - 14s 315us/sample - loss: 0.6224 - acc: 0.7794 - val_loss: 0.6335 - val_acc: 0.7846\n",
            "Epoch 74/100\n",
            "44992/45000 [============================>.] - ETA: 0s - loss: 0.6320 - acc: 0.7763\n",
            "Epoch 00074: val_acc did not improve from 0.79740\n",
            "45000/45000 [==============================] - 14s 313us/sample - loss: 0.6321 - acc: 0.7763 - val_loss: 0.6791 - val_acc: 0.7668\n",
            "Epoch 75/100\n",
            "44928/45000 [============================>.] - ETA: 0s - loss: 0.6344 - acc: 0.7736\n",
            "Epoch 00075: val_acc did not improve from 0.79740\n",
            "45000/45000 [==============================] - 14s 315us/sample - loss: 0.6344 - acc: 0.7736 - val_loss: 0.7080 - val_acc: 0.7536\n",
            "Epoch 76/100\n",
            "44992/45000 [============================>.] - ETA: 0s - loss: 0.6272 - acc: 0.7767\n",
            "Epoch 00076: val_acc did not improve from 0.79740\n",
            "45000/45000 [==============================] - 14s 316us/sample - loss: 0.6274 - acc: 0.7767 - val_loss: 0.6256 - val_acc: 0.7838\n",
            "Epoch 77/100\n",
            "44928/45000 [============================>.] - ETA: 0s - loss: 0.6256 - acc: 0.7768\n",
            "Epoch 00077: val_acc did not improve from 0.79740\n",
            "45000/45000 [==============================] - 14s 320us/sample - loss: 0.6260 - acc: 0.7767 - val_loss: 0.6529 - val_acc: 0.7772\n",
            "Epoch 78/100\n",
            "44992/45000 [============================>.] - ETA: 0s - loss: 0.6240 - acc: 0.7777\n",
            "Epoch 00078: val_acc did not improve from 0.79740\n",
            "45000/45000 [==============================] - 14s 314us/sample - loss: 0.6239 - acc: 0.7778 - val_loss: 0.6525 - val_acc: 0.7808\n",
            "Epoch 79/100\n",
            "44992/45000 [============================>.] - ETA: 0s - loss: 0.6159 - acc: 0.7822\n",
            "Epoch 00079: val_acc did not improve from 0.79740\n",
            "45000/45000 [==============================] - 14s 314us/sample - loss: 0.6159 - acc: 0.7822 - val_loss: 0.6004 - val_acc: 0.7942\n",
            "Epoch 80/100\n",
            "44992/45000 [============================>.] - ETA: 0s - loss: 0.6127 - acc: 0.7833\n",
            "Epoch 00080: val_acc did not improve from 0.79740\n",
            "45000/45000 [==============================] - 14s 313us/sample - loss: 0.6127 - acc: 0.7833 - val_loss: 0.6017 - val_acc: 0.7938\n",
            "Epoch 81/100\n",
            "44992/45000 [============================>.] - ETA: 0s - loss: 0.6129 - acc: 0.7825\n",
            "Epoch 00081: val_acc did not improve from 0.79740\n",
            "45000/45000 [==============================] - 14s 314us/sample - loss: 0.6128 - acc: 0.7825 - val_loss: 0.6002 - val_acc: 0.7934\n",
            "Epoch 82/100\n",
            "44928/45000 [============================>.] - ETA: 0s - loss: 0.6235 - acc: 0.7811\n",
            "Epoch 00082: val_acc did not improve from 0.79740\n",
            "45000/45000 [==============================] - 14s 314us/sample - loss: 0.6233 - acc: 0.7811 - val_loss: 0.6717 - val_acc: 0.7724\n",
            "Epoch 83/100\n",
            "44928/45000 [============================>.] - ETA: 0s - loss: 0.6127 - acc: 0.7816\n",
            "Epoch 00083: val_acc did not improve from 0.79740\n",
            "45000/45000 [==============================] - 14s 314us/sample - loss: 0.6134 - acc: 0.7814 - val_loss: 0.6548 - val_acc: 0.7794\n",
            "Epoch 84/100\n",
            "44928/45000 [============================>.] - ETA: 0s - loss: 0.6176 - acc: 0.7815\n",
            "Epoch 00084: val_acc did not improve from 0.79740\n",
            "45000/45000 [==============================] - 14s 315us/sample - loss: 0.6172 - acc: 0.7817 - val_loss: 0.6202 - val_acc: 0.7898\n",
            "Epoch 85/100\n",
            "44992/45000 [============================>.] - ETA: 0s - loss: 0.6104 - acc: 0.7835\n",
            "Epoch 00085: val_acc did not improve from 0.79740\n",
            "45000/45000 [==============================] - 14s 314us/sample - loss: 0.6104 - acc: 0.7835 - val_loss: 0.6069 - val_acc: 0.7908\n",
            "Epoch 86/100\n",
            "44928/45000 [============================>.] - ETA: 0s - loss: 0.6011 - acc: 0.7886\n",
            "Epoch 00086: val_acc did not improve from 0.79740\n",
            "45000/45000 [==============================] - 14s 315us/sample - loss: 0.6010 - acc: 0.7886 - val_loss: 0.6061 - val_acc: 0.7940\n",
            "Epoch 87/100\n",
            "44992/45000 [============================>.] - ETA: 0s - loss: 0.6040 - acc: 0.7852\n",
            "Epoch 00087: val_acc did not improve from 0.79740\n",
            "45000/45000 [==============================] - 14s 314us/sample - loss: 0.6042 - acc: 0.7852 - val_loss: 0.6025 - val_acc: 0.7930\n",
            "Epoch 88/100\n",
            "44992/45000 [============================>.] - ETA: 0s - loss: 0.6070 - acc: 0.7854\n",
            "Epoch 00088: val_acc did not improve from 0.79740\n",
            "45000/45000 [==============================] - 14s 315us/sample - loss: 0.6071 - acc: 0.7854 - val_loss: 0.6008 - val_acc: 0.7946\n",
            "Epoch 89/100\n",
            "44992/45000 [============================>.] - ETA: 0s - loss: 0.6024 - acc: 0.7880\n",
            "Epoch 00089: val_acc did not improve from 0.79740\n",
            "45000/45000 [==============================] - 14s 315us/sample - loss: 0.6024 - acc: 0.7880 - val_loss: 0.6213 - val_acc: 0.7922\n",
            "Epoch 90/100\n",
            "44992/45000 [============================>.] - ETA: 0s - loss: 0.6028 - acc: 0.7851\n",
            "Epoch 00090: val_acc did not improve from 0.79740\n",
            "45000/45000 [==============================] - 14s 315us/sample - loss: 0.6028 - acc: 0.7851 - val_loss: 0.6348 - val_acc: 0.7866\n",
            "Epoch 91/100\n",
            "44928/45000 [============================>.] - ETA: 0s - loss: 0.6061 - acc: 0.7860\n",
            "Epoch 00091: val_acc did not improve from 0.79740\n",
            "45000/45000 [==============================] - 14s 316us/sample - loss: 0.6061 - acc: 0.7861 - val_loss: 0.6085 - val_acc: 0.7954\n",
            "Epoch 92/100\n",
            "44992/45000 [============================>.] - ETA: 0s - loss: 0.5962 - acc: 0.7867\n",
            "Epoch 00092: val_acc did not improve from 0.79740\n",
            "45000/45000 [==============================] - 14s 315us/sample - loss: 0.5963 - acc: 0.7867 - val_loss: 0.6923 - val_acc: 0.7630\n",
            "Epoch 93/100\n",
            "44864/45000 [============================>.] - ETA: 0s - loss: 0.5976 - acc: 0.7891\n",
            "Epoch 00093: val_acc improved from 0.79740 to 0.80060, saving model to training_1\n",
            "45000/45000 [==============================] - 14s 318us/sample - loss: 0.5978 - acc: 0.7891 - val_loss: 0.5851 - val_acc: 0.8006\n",
            "Epoch 94/100\n",
            "44992/45000 [============================>.] - ETA: 0s - loss: 0.6002 - acc: 0.7873\n",
            "Epoch 00094: val_acc did not improve from 0.80060\n",
            "45000/45000 [==============================] - 14s 315us/sample - loss: 0.6005 - acc: 0.7872 - val_loss: 0.6956 - val_acc: 0.7666\n",
            "Epoch 95/100\n",
            "44992/45000 [============================>.] - ETA: 0s - loss: 0.5929 - acc: 0.7906\n",
            "Epoch 00095: val_acc did not improve from 0.80060\n",
            "45000/45000 [==============================] - 14s 317us/sample - loss: 0.5930 - acc: 0.7906 - val_loss: 0.5968 - val_acc: 0.7960\n",
            "Epoch 96/100\n",
            "44928/45000 [============================>.] - ETA: 0s - loss: 0.5891 - acc: 0.7916\n",
            "Epoch 00096: val_acc did not improve from 0.80060\n",
            "45000/45000 [==============================] - 14s 316us/sample - loss: 0.5895 - acc: 0.7916 - val_loss: 0.6332 - val_acc: 0.7822\n",
            "Epoch 97/100\n",
            "44992/45000 [============================>.] - ETA: 0s - loss: 0.5941 - acc: 0.7888\n",
            "Epoch 00097: val_acc did not improve from 0.80060\n",
            "45000/45000 [==============================] - 14s 318us/sample - loss: 0.5941 - acc: 0.7888 - val_loss: 0.6075 - val_acc: 0.7920\n",
            "Epoch 98/100\n",
            "44992/45000 [============================>.] - ETA: 0s - loss: 0.5866 - acc: 0.7923\n",
            "Epoch 00098: val_acc did not improve from 0.80060\n",
            "45000/45000 [==============================] - 14s 317us/sample - loss: 0.5866 - acc: 0.7923 - val_loss: 0.6449 - val_acc: 0.7820\n",
            "Epoch 99/100\n",
            "44928/45000 [============================>.] - ETA: 0s - loss: 0.5891 - acc: 0.7906\n",
            "Epoch 00099: val_acc improved from 0.80060 to 0.80100, saving model to training_1\n",
            "45000/45000 [==============================] - 14s 321us/sample - loss: 0.5891 - acc: 0.7906 - val_loss: 0.5984 - val_acc: 0.8010\n",
            "Epoch 100/100\n",
            "44992/45000 [============================>.] - ETA: 0s - loss: 0.5852 - acc: 0.7921\n",
            "Epoch 00100: val_acc did not improve from 0.80100\n",
            "45000/45000 [==============================] - 14s 314us/sample - loss: 0.5854 - acc: 0.7921 - val_loss: 0.5950 - val_acc: 0.7966\n"
          ],
          "name": "stdout"
        }
      ]
    },
    {
      "metadata": {
        "id": "F06P1Y4Pqw-f",
        "colab_type": "code",
        "outputId": "bdeea732-12f9-4182-81de-14dbbf7b00d8",
        "colab": {
          "base_uri": "https://localhost:8080/",
          "height": 35
        }
      },
      "cell_type": "code",
      "source": [
        "#%pwd\n",
        "!ls "
      ],
      "execution_count": 0,
      "outputs": [
        {
          "output_type": "stream",
          "text": [
            "sample_data\n"
          ],
          "name": "stdout"
        }
      ]
    },
    {
      "metadata": {
        "id": "EtAXIM-12Co3",
        "colab_type": "code",
        "outputId": "cf59b922-e0da-4b58-8c34-d1a310fb6a68",
        "colab": {
          "base_uri": "https://localhost:8080/",
          "height": 54
        }
      },
      "cell_type": "code",
      "source": [
        "model.evaluate(x_test, y_test)"
      ],
      "execution_count": 0,
      "outputs": [
        {
          "output_type": "stream",
          "text": [
            "10000/10000 [==============================] - 2s 156us/sample - loss: 0.6309 - acc: 0.7830\n"
          ],
          "name": "stdout"
        },
        {
          "output_type": "execute_result",
          "data": {
            "text/plain": [
              "[0.6308791948318482, 0.783]"
            ]
          },
          "metadata": {
            "tags": []
          },
          "execution_count": 44
        }
      ]
    },
    {
      "metadata": {
        "id": "xhDWszAMq6r-",
        "colab_type": "code",
        "outputId": "acdd0647-39c6-46fe-df08-04aab658226f",
        "colab": {
          "base_uri": "https://localhost:8080/",
          "height": 543
        }
      },
      "cell_type": "code",
      "source": [
        "acc = history.history['acc']\n",
        "val_acc = history.history['val_acc']\n",
        "loss = history.history['loss']\n",
        "val_loss = history.history['val_loss']\n",
        "\n",
        "epochs = range(1, len(acc) + 1)\n",
        "\n",
        "plt.plot(epochs, acc, 'bo', label='Training acc')\n",
        "plt.plot(epochs, val_acc, 'b', label='Validation acc')\n",
        "plt.title('Training and validation accuracy')\n",
        "plt.legend()\n",
        "\n",
        "plt.figure()\n",
        "\n",
        "plt.plot(epochs, loss, 'bo', label='Training loss')\n",
        "plt.plot(epochs, val_loss, 'b', label='Validation loss')\n",
        "plt.title('Training and validation loss')\n",
        "plt.legend()\n",
        "\n",
        "plt.show()"
      ],
      "execution_count": 0,
      "outputs": [
        {
          "output_type": "display_data",
          "data": {
            "image/png": "[encoded data removed]",
            "text/plain": [
              "<Figure size 432x288 with 1 Axes>"
            ]
          },
          "metadata": {
            "tags": []
          }
        },
        {
          "output_type": "display_data",
          "data": {
            "image/png": "[encoded data removed]",
            "text/plain": [
              "<Figure size 432x288 with 1 Axes>"
            ]
          },
          "metadata": {
            "tags": []
          }
        }
      ]
    },
    {
      "metadata": {
        "id": "JC3HVcSucc3Q",
        "colab_type": "code",
        "outputId": "6d6ef9a3-e431-4677-b3ae-c321614733f4",
        "colab": {
          "base_uri": "https://localhost:8080/",
          "height": 126
        }
      },
      "cell_type": "code",
      "source": [
        "from google.colab import drive\n",
        "drive.mount('/content/drive/')"
      ],
      "execution_count": 0,
      "outputs": [
        {
          "output_type": "stream",
          "text": [
            "Go to this URL in a browser: https://accounts.google.com/o/oauth2/auth?client_id=947318989803-6bn6qk8qdgf4n4g3pfee6491hc0brc4i.apps.googleusercontent.com&redirect_uri=urn%3Aietf%3Awg%3Aoauth%3A2.0%3Aoob&scope=email%20https%3A%2F%2Fwww.googleapis.com%2Fauth%2Fdocs.test%20https%3A%2F%2Fwww.googleapis.com%2Fauth%2Fdrive%20https%3A%2F%2Fwww.googleapis.com%2Fauth%2Fdrive.photos.readonly%20https%3A%2F%2Fwww.googleapis.com%2Fauth%2Fpeopleapi.readonly&response_type=code\n",
            "\n",
            "Enter your authorization code:\n",
            "··········\n",
            "Mounted at /content/drive/\n"
          ],
          "name": "stdout"
        }
      ]
    },
    {
      "metadata": {
        "id": "nkeAMNWpce--",
        "colab_type": "code",
        "outputId": "7f65f791-ff18-4eca-a5a4-ef6031ed7917",
        "colab": {
          "base_uri": "https://localhost:8080/",
          "height": 35
        }
      },
      "cell_type": "code",
      "source": [
        "%cd \"/content/drive/My Drive/\""
      ],
      "execution_count": 0,
      "outputs": [
        {
          "output_type": "stream",
          "text": [
            "/content/drive/My Drive\n"
          ],
          "name": "stdout"
        }
      ]
    },
    {
      "metadata": {
        "id": "U8ZQk4SCsNIx",
        "colab_type": "code",
        "outputId": "6893062f-c932-4187-e8a9-305db99326f9",
        "colab": {
          "base_uri": "https://localhost:8080/",
          "height": 999
        }
      },
      "cell_type": "code",
      "source": [
        "new_model = tf.keras.models.load_model('./DL_Assignment_2/model/model.ckpt')\n",
        "new_model.summary()"
      ],
      "execution_count": 0,
      "outputs": [
        {
          "output_type": "stream",
          "text": [
            "WARNING:tensorflow:From /usr/local/lib/python3.6/dist-packages/tensorflow/python/ops/resource_variable_ops.py:435: colocate_with (from tensorflow.python.framework.ops) is deprecated and will be removed in a future version.\n",
            "Instructions for updating:\n",
            "Colocations handled automatically by placer.\n",
            "WARNING:tensorflow:From /usr/local/lib/python3.6/dist-packages/tensorflow/python/keras/layers/core.py:143: calling dropout (from tensorflow.python.ops.nn_ops) with keep_prob is deprecated and will be removed in a future version.\n",
            "Instructions for updating:\n",
            "Please use `rate` instead of `keep_prob`. Rate should be set to `rate = 1 - keep_prob`.\n",
            "WARNING:tensorflow:From /usr/local/lib/python3.6/dist-packages/tensorflow/python/ops/math_ops.py:3066: to_int32 (from tensorflow.python.ops.math_ops) is deprecated and will be removed in a future version.\n",
            "Instructions for updating:\n",
            "Use tf.cast instead.\n",
            "_________________________________________________________________\n",
            "Layer (type)                 Output Shape              Param #   \n",
            "=================================================================\n",
            "conv2d (Conv2D)              (None, 28, 28, 32)        2432      \n",
            "_________________________________________________________________\n",
            "max_pooling2d (MaxPooling2D) (None, 27, 27, 32)        0         \n",
            "_________________________________________________________________\n",
            "dropout (Dropout)            (None, 27, 27, 32)        0         \n",
            "_________________________________________________________________\n",
            "conv2d_1 (Conv2D)            (None, 14, 14, 64)        18496     \n",
            "_________________________________________________________________\n",
            "max_pooling2d_1 (MaxPooling2 (None, 7, 7, 64)          0         \n",
            "_________________________________________________________________\n",
            "dropout_1 (Dropout)          (None, 7, 7, 64)          0         \n",
            "_________________________________________________________________\n",
            "conv2d_2 (Conv2D)            (None, 4, 4, 64)          36928     \n",
            "_________________________________________________________________\n",
            "max_pooling2d_2 (MaxPooling2 (None, 3, 3, 64)          0         \n",
            "_________________________________________________________________\n",
            "dropout_2 (Dropout)          (None, 3, 3, 64)          0         \n",
            "_________________________________________________________________\n",
            "flatten (Flatten)            (None, 576)               0         \n",
            "_________________________________________________________________\n",
            "dense (Dense)                (None, 512)               295424    \n",
            "_________________________________________________________________\n",
            "batch_normalization_v1 (Batc (None, 512)               2048      \n",
            "_________________________________________________________________\n",
            "activation (Activation)      (None, 512)               0         \n",
            "_________________________________________________________________\n",
            "dropout_3 (Dropout)          (None, 512)               0         \n",
            "_________________________________________________________________\n",
            "dense_1 (Dense)              (None, 512)               262656    \n",
            "_________________________________________________________________\n",
            "batch_normalization_v1_1 (Ba (None, 512)               2048      \n",
            "_________________________________________________________________\n",
            "activation_1 (Activation)    (None, 512)               0         \n",
            "_________________________________________________________________\n",
            "dropout_4 (Dropout)          (None, 512)               0         \n",
            "_________________________________________________________________\n",
            "dense_2 (Dense)              (None, 10)                5130      \n",
            "=================================================================\n",
            "Total params: 625,162\n",
            "Trainable params: 623,114\n",
            "Non-trainable params: 2,048\n",
            "_________________________________________________________________\n"
          ],
          "name": "stdout"
        }
      ]
    },
    {
      "metadata": {
        "id": "_ixoDl-L1any",
        "colab_type": "code",
        "outputId": "94bb4d46-ab8f-4840-ea0a-cb96d8d68171",
        "colab": {
          "base_uri": "https://localhost:8080/",
          "height": 35
        }
      },
      "cell_type": "code",
      "source": [
        "len(new_model.layers)"
      ],
      "execution_count": 0,
      "outputs": [
        {
          "output_type": "execute_result",
          "data": {
            "text/plain": [
              "19"
            ]
          },
          "metadata": {
            "tags": []
          },
          "execution_count": 8
        }
      ]
    },
    {
      "metadata": {
        "id": "I4hJd1Oo2X5s",
        "colab_type": "code",
        "outputId": "d3bdf66c-776c-4fc5-e05b-ee63c99f85c1",
        "colab": {
          "base_uri": "https://localhost:8080/",
          "height": 54
        }
      },
      "cell_type": "code",
      "source": [
        "new_model.evaluate(x_test, y_test)"
      ],
      "execution_count": 0,
      "outputs": [
        {
          "output_type": "stream",
          "text": [
            "10000/10000 [==============================] - 2s 231us/sample - loss: 8.5968 - acc: 0.4583\n"
          ],
          "name": "stdout"
        },
        {
          "output_type": "execute_result",
          "data": {
            "text/plain": [
              "[8.596827729797363, 0.4583]"
            ]
          },
          "metadata": {
            "tags": []
          },
          "execution_count": 10
        }
      ]
    },
    {
      "metadata": {
        "id": "PAcGUqPE1vCF",
        "colab_type": "code",
        "outputId": "7427d998-ad68-4b39-d4ec-8c9a8027efcd",
        "colab": {
          "base_uri": "https://localhost:8080/",
          "height": 284
        }
      },
      "cell_type": "code",
      "source": [
        "plt.imshow(x_test[9])"
      ],
      "execution_count": 0,
      "outputs": [
        {
          "output_type": "execute_result",
          "data": {
            "text/plain": [
              "<matplotlib.image.AxesImage at 0x7f91ed6365c0>"
            ]
          },
          "metadata": {
            "tags": []
          },
          "execution_count": 15
        },
        {
          "output_type": "display_data",
          "data": {
            "image/png": "[encoded data removed]",
            "text/plain": [
              "<Figure size 432x288 with 1 Axes>"
            ]
          },
          "metadata": {
            "tags": []
          }
        }
      ]
    },
    {
      "metadata": {
        "id": "q6DGHDjkmHG_",
        "colab_type": "code",
        "colab": {}
      },
      "cell_type": "code",
      "source": [
        "label_list = {0:\"airplane\", 1:\"automobile\", 2:\"bird\", 3:\"cat\", \n",
        "              4:\"deer\", 5:\"dog\", 6:\"frog\", 7:\"horse\", 8:\"ship\", 9:\"truck\"}"
      ],
      "execution_count": 0,
      "outputs": []
    },
    {
      "metadata": {
        "id": "eSxWURQnmNGM",
        "colab_type": "code",
        "outputId": "7c21e5a3-1130-4231-be18-a1c7daea50bb",
        "colab": {
          "base_uri": "https://localhost:8080/",
          "height": 35
        }
      },
      "cell_type": "code",
      "source": [
        "print(label_list[y_test[9][0]])"
      ],
      "execution_count": 0,
      "outputs": [
        {
          "output_type": "stream",
          "text": [
            "automobile\n"
          ],
          "name": "stdout"
        }
      ]
    },
    {
      "metadata": {
        "id": "vaMHB2G12x-v",
        "colab_type": "code",
        "colab": {}
      },
      "cell_type": "code",
      "source": [
        "layer_outputs = [layer.output for layer in new_model.layers[:12]] # Extracts the outputs of the top 12 layers\n",
        "activation_model = tf.keras.models.Model(inputs=new_model.input, outputs=layer_outputs) # Creates a model that will return these outputs, given the model input"
      ],
      "execution_count": 0,
      "outputs": []
    },
    {
      "metadata": {
        "id": "UBSv9QjZ3wpd",
        "colab_type": "code",
        "colab": {}
      },
      "cell_type": "code",
      "source": [
        "activations = activation_model.predict(np.reshape(x_test[9], (1,32,32,3))) # Returns a list of five Numpy arrays: one array per layer activation"
      ],
      "execution_count": 0,
      "outputs": []
    },
    {
      "metadata": {
        "id": "6TdRp3V-4SrN",
        "colab_type": "code",
        "outputId": "1516caf6-38d1-4b92-fa21-e3c0f36c8988",
        "colab": {
          "base_uri": "https://localhost:8080/",
          "height": 35
        }
      },
      "cell_type": "code",
      "source": [
        "first_layer_activation = activations[0]\n",
        "print(first_layer_activation.shape)"
      ],
      "execution_count": 0,
      "outputs": [
        {
          "output_type": "stream",
          "text": [
            "(1, 28, 28, 32)\n"
          ],
          "name": "stdout"
        }
      ]
    },
    {
      "metadata": {
        "id": "7CHbWqZE4bO_",
        "colab_type": "code",
        "outputId": "6856ef74-2499-4334-e91f-61895c27a6c9",
        "colab": {
          "base_uri": "https://localhost:8080/",
          "height": 289
        }
      },
      "cell_type": "code",
      "source": [
        "plt.matshow(first_layer_activation[0, :, :, 0], cmap='viridis')"
      ],
      "execution_count": 0,
      "outputs": [
        {
          "output_type": "execute_result",
          "data": {
            "text/plain": [
              "<matplotlib.image.AxesImage at 0x7f91ead51208>"
            ]
          },
          "metadata": {
            "tags": []
          },
          "execution_count": 20
        },
        {
          "output_type": "display_data",
          "data": {
            "image/png": "[encoded data removed]",
            "text/plain": [
              "<Figure size 288x288 with 1 Axes>"
            ]
          },
          "metadata": {
            "tags": []
          }
        }
      ]
    },
    {
      "metadata": {
        "id": "4wuOo_6Nc-8e",
        "colab_type": "code",
        "outputId": "5da79d1c-d7c2-4f22-b14b-84c77ace00d2",
        "colab": {
          "base_uri": "https://localhost:8080/",
          "height": 421
        }
      },
      "cell_type": "code",
      "source": [
        "# Names of the layers, so you can have them as part of your plot\n",
        "layer_names = []\n",
        "for layer in new_model.layers[:12]:\n",
        "    layer_names.append(layer.name) \n",
        "\n",
        "# Extracts the outputs of the top 12 layers\n",
        "layer_outputs = [layer.output for layer in new_model.layers[:12]] \n",
        "# Creates a model that will return these outputs, given the model input\n",
        "activation_model = tf.keras.models.Model(inputs=new_model.input, outputs=layer_outputs) \n",
        "# Predict one of test set picture\n",
        "activations = activation_model.predict(np.reshape(x_test[9], (1,32,32,3)))\n",
        "# Extract first layer output\n",
        "first_layer_activation = activations[0]\n",
        "\n",
        "images_per_col = 6\n",
        "images_per_row = 6\n",
        "\n",
        "# Number of features in the feature map\n",
        "n_features = first_layer_activation.shape[-1] \n",
        "#The feature map has shape (1, size, size, n_features)\n",
        "feature_size = first_layer_activation.shape[1] \n",
        "display_grid = np.zeros((feature_size * images_per_col, feature_size * images_per_row))\n",
        "# Integrate feature maps into one display grid\n",
        "for col in range(images_per_col):\n",
        "  for row in range(images_per_row):\n",
        "    if (col * images_per_row + row + 1) > n_features:\n",
        "      break\n",
        "    channel_image = first_layer_activation[0, :, :, col * images_per_row + row]\n",
        "    channel_image -= channel_image.mean() # Post-processes the feature to make it visually palatable\n",
        "    channel_image /= channel_image.std()\n",
        "    channel_image *= 64\n",
        "    channel_image += 128\n",
        "    channel_image = np.clip(channel_image, 0, 255).astype('uint8')\n",
        "    # Displays the grid\n",
        "    display_grid[col * feature_size : (col + 1) * feature_size, \n",
        "                 row * feature_size : (row + 1) * feature_size] = channel_image\n",
        "    \n",
        "scale = 1. / feature_size\n",
        "fig = plt.figure(figsize=(scale * display_grid.shape[1],\n",
        "                          scale * display_grid.shape[0]))\n",
        "plt.title(layer_names[0])\n",
        "plt.xlabel('class: '+str(label_list[y_test[9][0]]))\n",
        "plt.grid(False)\n",
        "plt.imshow(display_grid, aspect='auto', cmap='gray')\n",
        "fig.savefig('Save_test.png')"
      ],
      "execution_count": 0,
      "outputs": [
        {
          "output_type": "stream",
          "text": [
            "/usr/local/lib/python3.6/dist-packages/ipykernel_launcher.py:29: RuntimeWarning: invalid value encountered in true_divide\n"
          ],
          "name": "stderr"
        },
        {
          "output_type": "display_data",
          "data": {
            "image/png": "[encoded data removed]",
            "text/plain": [
              "<Figure size 432x432 with 1 Axes>"
            ]
          },
          "metadata": {
            "tags": []
          }
        }
      ]
    },
    {
      "metadata": {
        "id": "AuuX7dGU4dTm",
        "colab_type": "code",
        "colab": {}
      },
      "cell_type": "code",
      "source": [
        "layer_names = []\n",
        "for layer in new_model.layers[:12]:\n",
        "    layer_names.append(layer.name) # Names of the layers, so you can have them as part of your plot\n",
        "    \n",
        "images_per_row = 16\n",
        "\n",
        "for layer_name, layer_activation in zip(layer_names, activations): # Displays the feature maps\n",
        "    n_features = layer_activation.shape[-1] # Number of features in the feature map\n",
        "    size = layer_activation.shape[1] #The feature map has shape (1, size, size, n_features).\n",
        "    n_cols = n_features // images_per_row # Tiles the activation channels in this matrix\n",
        "    display_grid = np.zeros((size * n_cols, images_per_row * size))\n",
        "    for col in range(n_cols): # Tiles each filter into a big horizontal grid\n",
        "        for row in range(images_per_row):\n",
        "            channel_image = layer_activation[0,\n",
        "                                             :, :,\n",
        "                                             col * images_per_row + row]\n",
        "            channel_image -= channel_image.mean() # Post-processes the feature to make it visually palatable\n",
        "            channel_image /= channel_image.std()\n",
        "            channel_image *= 64\n",
        "            channel_image += 128\n",
        "            channel_image = np.clip(channel_image, 0, 255).astype('uint8')\n",
        "            display_grid[col * size : (col + 1) * size, # Displays the grid\n",
        "                         row * size : (row + 1) * size] = channel_image\n",
        "    scale = 1. / size\n",
        "    plt.figure(figsize=(scale * display_grid.shape[1],\n",
        "                        scale * display_grid.shape[0]))\n",
        "    plt.title(layer_name)\n",
        "    plt.grid(False)\n",
        "    plt.imshow(display_grid, aspect='auto', cmap='viridis')"
      ],
      "execution_count": 0,
      "outputs": []
    },
    {
      "metadata": {
        "id": "jMZEPsng5nIy",
        "colab_type": "code",
        "colab": {}
      },
      "cell_type": "code",
      "source": [
        ""
      ],
      "execution_count": 0,
      "outputs": []
    }
  ]
}